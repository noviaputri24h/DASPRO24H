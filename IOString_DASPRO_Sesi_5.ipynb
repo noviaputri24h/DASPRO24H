{
 "cells": [
  {
   "cell_type": "code",
   "execution_count": 2,
   "id": "99b4c6a0",
   "metadata": {},
   "outputs": [
    {
     "name": "stdout",
     "output_type": "stream",
     "text": [
      "Selsmst datang Isikan nama anda:\n",
      "ini adalah urutan angka:\n",
      "123\n",
      "A-B-c\n"
     ]
    }
   ],
   "source": [
    "name = (\"Isikan nama anda:\")\n",
    "\n",
    "print(\"Selsmst datang\", name)\n",
    "print(\"ini adalah urutan angka:\")\n",
    "print(\"1\", end='')\n",
    "print(\"2\", end='')\n",
    "print(\"3\")\n",
    "print(\"A\", \"B\", \"c\", sep='-')\n"
   ]
  },
  {
   "cell_type": "markdown",
   "id": "a06e5d4a",
   "metadata": {},
   "source": [
    "<H4>STRING FORMAT</H4>"
   ]
  },
  {
   "cell_type": "code",
   "execution_count": 2,
   "id": "c09a5ae3",
   "metadata": {},
   "outputs": [
    {
     "name": "stdout",
     "output_type": "stream",
     "text": [
      "isikan bilangan 1: 10\n",
      "isikan bilangan 2: 30\n",
      "hasil penjumlahan 10 + 30 = 40\n",
      "hasil penjumlahan 10 + 30 = 40\n"
     ]
    }
   ],
   "source": [
    "val1 = int(input(\"isikan bilangan 1: \"))\n",
    "val2 = int(input(\"isikan bilangan 2: \"))\n",
    "\n",
    "\n",
    "print(\"hasil penjumlahan\", val1,\"+\",val2,\"=\",val1+val2)\n",
    "print(\"hasil penjumlahan {} + {} = {}\".format(val1,val2,val1+val2))"
   ]
  },
  {
   "cell_type": "markdown",
   "id": "9d426560",
   "metadata": {},
   "source": [
    "<h4> FORMAT INDEX</H4>\n",
    "   "
   ]
  },
  {
   "cell_type": "code",
   "execution_count": 4,
   "id": "f92a4409",
   "metadata": {},
   "outputs": [
    {
     "name": "stdout",
     "output_type": "stream",
     "text": [
      "isikan nama awal:novia\n",
      "isikan nama tengah:putri\n",
      "isikan nama akhir:wardani\n",
      "nama lengkap: novia putri wardani\n",
      "nama lengkap: putri novia wardani\n",
      "nama lengkap: novia putri wardani\n"
     ]
    }
   ],
   "source": [
    "fName= input(\"isikan nama awal:\")\n",
    "mName= input(\"isikan nama tengah:\")\n",
    "lName= input(\"isikan nama akhir:\")\n",
    "\n",
    "print(\"nama lengkap: {} {} {}\".format(fName,mName,lName))\n",
    "print(\"nama lengkap: {1} {0} {2}\".format(fName,mName,lName))\n",
    "\n",
    "#MENGGUNAKAN KEY VARIABLE\n",
    "\n",
    "print(\"nama lengkap: {f} {m} {l}\".format(f=fName,m=mName,l=lName))"
   ]
  },
  {
   "cell_type": "markdown",
   "id": "a54aee0d",
   "metadata": {},
   "source": [
    "<h4> SLICING</h4>"
   ]
  },
  {
   "cell_type": "code",
   "execution_count": 6,
   "id": "7c39780b",
   "metadata": {},
   "outputs": [
    {
     "name": "stdout",
     "output_type": "stream",
     "text": [
      "isikan kalimat:makassar\n",
      "karakter ke 2 adalah : a\n",
      "karakter ke 3 dst : kassar\n",
      "karakter ke 2-4 : sar\n",
      "karakter paling akhir adalah : r\n",
      "kalimat dibalik menjadi: rassakam\n"
     ]
    }
   ],
   "source": [
    "kalimat = input(\"isikan kalimat:\")\n",
    "#MENCETAK KARAKTER KE 2\n",
    "print(\"karakter ke 2 adalah :\", kalimat[1])\n",
    "\n",
    "#MENCETAK KARAKTER KE 3 SAMPAI SETERUSNYA SETERUSNYA\n",
    "print(\"karakter ke 3 dst :\", kalimat[2:])\n",
    "\n",
    "#MENCETAK KARAKTER KE 2 SAMPAI KE 4\n",
    "print(\"karakter ke 2-4 :\", kalimat[1-4:])\n",
    "\n",
    "#MENCETAK KARAKTER PALING AKHIR\n",
    "print(\"karakter paling akhir adalah :\", kalimat[-1])\n",
    "\n",
    "#REVERS\n",
    "print(\"kalimat dibalik menjadi:\", kalimat[::-1])\n",
    "\n",
    "\n"
   ]
  },
  {
   "cell_type": "markdown",
   "id": "e4a2225b",
   "metadata": {},
   "source": [
    "<H4>FUNGSI STRING</H4>"
   ]
  },
  {
   "cell_type": "code",
   "execution_count": 3,
   "id": "4086fdf8",
   "metadata": {},
   "outputs": [
    {
     "name": "stdout",
     "output_type": "stream",
     "text": [
      "nama awal: Budi\n",
      "nama akhir: Raharja\n",
      "gelar: S.Kom\n",
      "6\n",
      "isikan email anda:novia@gmail.com\n",
      "a valid email\n"
     ]
    }
   ],
   "source": [
    "#FUNSI SPLIT\n",
    "namaLengkap = \"Budi Raharja S.Kom\"\n",
    "nama = namaLengkap.split(' ')\n",
    "print(\"nama awal:\", nama[0])\n",
    "print(\"nama akhir:\", nama[1])\n",
    "print(\"gelar:\", nama[2])\n",
    "\n",
    "#FUNSI FIND\n",
    "#jika ketemu mengembalikan indeks dari posisi karakter yang dicari\n",
    "#jika tidak ketemu akan menghasilkan -1\n",
    "nomorPlat=\"F1023BT\"\n",
    "cari = nomorPlat.find(\"T\")\n",
    "print(cari)\n",
    "\n",
    "\n",
    "#Buatlah program untuk memvalidasi apakah email valid atau tidak \n",
    "#Valid -> mempunyai tanda @ dan  . => adi@gmail.com\n",
    "#Adi.nu@gmail.com => Tidak Valid\n",
    "#posisi @ disebelah kiri dari posisi .\n",
    "\n",
    "email=input(\"isikan email anda:\")\n",
    "findAt = email.find(\"@\")\n",
    "findPeriod = email.find(\".\")\n",
    "\n",
    "validation = \"a valid email\" if findAt != -1 and findPeriod != -1 and findAt < findPeriod else \"not a valid email\"\n",
    "print(validation)"
   ]
  },
  {
   "cell_type": "code",
   "execution_count": 21,
   "id": "e1b17c30",
   "metadata": {},
   "outputs": [
    {
     "name": "stdout",
     "output_type": "stream",
     "text": [
      "nilai acak pecahan :0.7244766587414045\n",
      "nilai acak antar 0 - 100: 24\n",
      "sekarang bulan:oct\n",
      "sekarang hari :['sat', '6']\n",
      "berapakah hasil 45 + 40?\n",
      "isikan jawaban anda:85\n",
      "anda benar!\n"
     ]
    }
   ],
   "source": [
    "#fungsi string random bilangan\n",
    "\n",
    "from random import random\n",
    "nilai = random()\n",
    "\n",
    "#Fstring\n",
    "print(f\"nilai acak pecahan :{nilai}\")\n",
    "\n",
    "from random import randint\n",
    "intNilai = randint(0,100)\n",
    "print(f\"nilai acak antar 0 - 100: {intNilai}\")\n",
    "\n",
    "from random import choice\n",
    "month = [\"jan\",\"feb\",\"mar\",\"apr\",\"may\",\"jun\",\"jul\",\"aug\",\"sep\",\"oct\",\"nov\",\"dec\"]\n",
    "day = [[\"mon\",\"1\"],[\"tue\",\"2\"],[\"wed\",\"3\"],[\"thu\",\"4\"],[\"fri\"\"5\"],[\"sat\",\"6\"],[\"sun\",\"7\"]]\n",
    "cMonth = choice(month)\n",
    "cDay = choice(day)\n",
    "print(f\"sekarang bulan:{cMonth}\")\n",
    "print(f\"sekarang hari :{cDay}\")\n",
    "\n",
    "nilai1 = randint(0,100)\n",
    "nilai2 = randint(0,100)\n",
    "print(f\"berapakah hasil {nilai1} + {nilai2}?\")\n",
    "answer = int(input(\"isikan jawaban anda:\"))\n",
    "check = \"anda benar!\" if nilai1 + nilai2 == answer else \"anda salah!\"\n",
    "print(check)"
   ]
  },
  {
   "cell_type": "code",
   "execution_count": 28,
   "id": "e6510e74",
   "metadata": {},
   "outputs": [
    {
     "name": "stdout",
     "output_type": "stream",
     "text": [
      "apa arti darieat?\n",
      "isikan jawaban:makan\n",
      "anda benar!\n"
     ]
    }
   ],
   "source": [
    "from random import choice\n",
    "\n",
    "kamus = [[\"eat\",\"makan\"],[\"drink\",\"minum\"],[\"reading\",\"membaca\"]]\n",
    "cKamus = choice(kamus)\n",
    "print(f\"apa arti dari{cKamus[0]}?\")\n",
    "jawab = input(\"isikan jawaban:\")\n",
    "check = \"anda benar!\" if jawab.lower()==cKamus[1].lower()else \"anda salah!\"\n",
    "print(check)"
   ]
  },
  {
   "cell_type": "code",
   "execution_count": null,
   "id": "08eeb99f",
   "metadata": {},
   "outputs": [],
   "source": [
    "\"\""
   ]
  }
 ],
 "metadata": {
  "kernelspec": {
   "display_name": "Python 3 (ipykernel)",
   "language": "python",
   "name": "python3"
  },
  "language_info": {
   "codemirror_mode": {
    "name": "ipython",
    "version": 3
   },
   "file_extension": ".py",
   "mimetype": "text/x-python",
   "name": "python",
   "nbconvert_exporter": "python",
   "pygments_lexer": "ipython3",
   "version": "3.9.12"
  }
 },
 "nbformat": 4,
 "nbformat_minor": 5
}
