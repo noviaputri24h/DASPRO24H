{
 "cells": [
  {
   "cell_type": "code",
   "execution_count": 27,
   "id": "ec5ebbd3",
   "metadata": {},
   "outputs": [],
   "source": [
    "import numpy as np"
   ]
  },
  {
   "cell_type": "code",
   "execution_count": 28,
   "id": "e68b52cc",
   "metadata": {},
   "outputs": [],
   "source": [
    "mat1D = np.array([1,2,3,4,5,6,7,8,9])\n",
    "mat2D = np.array([[1,2,3],[4,5,6],[7,8,9]])\n",
    "mat2D10 = mat2D * 10"
   ]
  },
  {
   "cell_type": "code",
   "execution_count": 29,
   "id": "d1682be5",
   "metadata": {},
   "outputs": [
    {
     "name": "stdout",
     "output_type": "stream",
     "text": [
      "Matriks 1D :\n",
      " [1 2 3 4 5 6 7 8 9]\n",
      "Matriks 1D indeks ke 7 : 8\n",
      "Matriks 1D * 10 : [10 20 30 40 50 60 70 80 90]\n"
     ]
    }
   ],
   "source": [
    "print(f\"Matriks 1D :\\n {mat1D}\")\n",
    "print(f\"Matriks 1D indeks ke 7 : {mat1D[7]}\")\n",
    "print(f\"Matriks 1D * 10 : {mat1D * 10}\")\n"
   ]
  },
  {
   "cell_type": "code",
   "execution_count": 30,
   "id": "cc0530f4",
   "metadata": {},
   "outputs": [
    {
     "name": "stdout",
     "output_type": "stream",
     "text": [
      "Matriks 2D:\n",
      "[[1 2 3]\n",
      " [4 5 6]\n",
      " [7 8 9]]\n",
      "Matriks 2D * 10 :\n",
      "[[10 20 30]\n",
      " [40 50 60]\n",
      " [70 80 90]]\n",
      "[10 20 30]\n",
      "30\n"
     ]
    }
   ],
   "source": [
    "print(f\"Matriks 2D:\\n{mat2D}\")\n",
    "print(f\"Matriks 2D * 10 :\\n{mat2D*10}\")\n",
    "print(mat2D10[0])\n",
    "print(mat2D10[0][2])"
   ]
  },
  {
   "cell_type": "code",
   "execution_count": 31,
   "id": "8e5e2328",
   "metadata": {},
   "outputs": [
    {
     "name": "stdout",
     "output_type": "stream",
     "text": [
      "(9,)\n",
      "(3, 3)\n"
     ]
    }
   ],
   "source": [
    "print(mat1D.shape)\n",
    "print(mat2D.shape)"
   ]
  },
  {
   "cell_type": "code",
   "execution_count": 32,
   "id": "196a2b80",
   "metadata": {},
   "outputs": [
    {
     "name": "stdout",
     "output_type": "stream",
     "text": [
      "ukuran dari mat1D :9\n",
      "ukuran dari mat2D :9\n"
     ]
    }
   ],
   "source": [
    "print(f\"ukuran dari mat1D :{mat1D.size}\")\n",
    "print(f\"ukuran dari mat2D :{mat2D.size}\")\n"
   ]
  },
  {
   "cell_type": "code",
   "execution_count": 33,
   "id": "72228927",
   "metadata": {},
   "outputs": [
    {
     "name": "stdout",
     "output_type": "stream",
     "text": [
      "ukuran dari mat1D:9\n",
      "ukuran dari mat2D:9\n"
     ]
    }
   ],
   "source": [
    "print(f\"ukuran dari mat1D:{mat1D.size}\")\n",
    "print(f\"ukuran dari mat2D:{mat2D.size}\")\n"
   ]
  },
  {
   "cell_type": "code",
   "execution_count": 40,
   "id": "67c1222d",
   "metadata": {},
   "outputs": [
    {
     "name": "stdout",
     "output_type": "stream",
     "text": [
      "Matriks mZero :\n",
      "[[0. 0. 0.]\n",
      " [0. 0. 0.]\n",
      " [0. 0. 0.]]\n",
      "Matriks mOne :\n",
      "[[1. 1. 1.]\n",
      " [1. 1. 1.]\n",
      " [1. 1. 1.]]\n",
      "Matriks mFull :\n",
      "[[7 7 7 7]\n",
      " [7 7 7 7]\n",
      " [7 7 7 7]\n",
      " [7 7 7 7]]\n",
      "Matriks mIdentity :\n",
      "[[1. 0. 0. 0.]\n",
      " [0. 1. 0. 0.]\n",
      " [0. 0. 1. 0.]\n",
      " [0. 0. 0. 1.]]\n",
      "Matriks mFRandom1D :\n",
      "[0.22956785 0.80972389 0.00445203 0.73356277 0.33208563]\n",
      "Matriks mFRandom2D :\n",
      "[[0.51879019 0.92777588 0.33102488]\n",
      " [0.46729997 0.85590283 0.19268131]\n",
      " [0.0439993  0.51959988 0.33785166]]\n",
      "Matriks mIRandom1D :\n",
      "[0.22956785 0.80972389 0.00445203 0.73356277 0.33208563]\n",
      "Matriks mIRandom2D :\n",
      "[[0.51879019 0.92777588 0.33102488]\n",
      " [0.46729997 0.85590283 0.19268131]\n",
      " [0.0439993  0.51959988 0.33785166]]\n"
     ]
    }
   ],
   "source": [
    "#spesial matriks\n",
    "mZero = np.zeros((3,3))\n",
    "mOne = np.ones ((3,3))\n",
    "mFull = np.full ((4,4),7)\n",
    "mIdentity = np.eye((4))\n",
    "mFRandom1D = np.random.rand(5)\n",
    "mFRandom2D = np.random.rand(3,3)\n",
    "mIRandom1D = np.random.randint(10,100, size=5)\n",
    "mIRandom2D = np.random.randint(10,100, size=(4,4))\n",
    "#membuat array ukuran 4*4 diisi dengan nilai 7\n",
    "print(f\"Matriks mZero :\\n{mZero}\")\n",
    "print(f\"Matriks mOne :\\n{mOne}\")\n",
    "print(f\"Matriks mFull :\\n{mFull}\")\n",
    "print(f\"Matriks mIdentity :\\n{mIdentity}\")\n",
    "print(f\"Matriks mFRandom1D :\\n{mFRandom1D}\")\n",
    "print(f\"Matriks mFRandom2D :\\n{mFRandom2D}\")\n",
    "print(f\"Matriks mIRandom1D :\\n{mFRandom1D}\")\n",
    "print(f\"Matriks mIRandom2D :\\n{mFRandom2D}\")\n"
   ]
  },
  {
   "cell_type": "code",
   "execution_count": 43,
   "id": "c3dea5f3",
   "metadata": {},
   "outputs": [
    {
     "name": "stdout",
     "output_type": "stream",
     "text": [
      "Matriks data :\n",
      "[[1 2 3]\n",
      " [4 5 6]\n",
      " [7 8 9]]\n",
      "Matriks mShape :\n",
      "[[1]\n",
      " [2]\n",
      " [3]\n",
      " [4]\n",
      " [5]\n",
      " [6]\n",
      " [7]\n",
      " [8]\n",
      " [9]]\n",
      "Matriks mFlat :\n",
      "[1 2 3 4 5 6 7 8 9]\n"
     ]
    }
   ],
   "source": [
    "#mengubah bentuk array\n",
    "data = np.array([[1,2,3],[4,5,6],[7,8,9]])\n",
    "mShape = data.reshape((9,1))\n",
    "mFlat = data.flatten()\n",
    "\n",
    "print(f\"Matriks data :\\n{data}\")\n",
    "print(f\"Matriks mShape :\\n{mShape}\")\n",
    "print(f\"Matriks mFlat :\\n{mFlat}\")"
   ]
  },
  {
   "cell_type": "code",
   "execution_count": 44,
   "id": "78af21b8",
   "metadata": {},
   "outputs": [
    {
     "name": "stdout",
     "output_type": "stream",
     "text": [
      "hasil dari dot product :69\n",
      "haisl penjumlahan matriks :/n69\n",
      "nilai minimum : 2\n",
      "nilai maksimum :9\n",
      "nilai rata - rata : 5.75\n",
      "nilai total : 23\n",
      "nilai deviasi : 2.5860201081971503\n"
     ]
    }
   ],
   "source": [
    "#Deskriptif statistik\n",
    "x = np.array([1,2,3,4])\n",
    "y = np.array ([2,5,7,9])\n",
    "\n",
    "#menghitung dot product\n",
    "r1 = np.dot(x,y)\n",
    "r2 = np.dot(x,y)\n",
    "print(f\"hasil dari dot product :{r1}\")\n",
    "print(f\"haisl penjumlahan matriks :/n{r2}\")\n",
    "print(f\"nilai minimum : {y.min()}\")\n",
    "print(F\"nilai maksimum :{y.max()}\")\n",
    "print(F\"nilai rata - rata : {y.mean()}\")\n",
    "print(F\"nilai total : {y.sum()}\")\n",
    "print(F\"nilai deviasi : {y.std()}\")\n"
   ]
  },
  {
   "cell_type": "code",
   "execution_count": 53,
   "id": "635b10b4",
   "metadata": {},
   "outputs": [
    {
     "name": "stdout",
     "output_type": "stream",
     "text": [
      "[100  90 100  80]\n",
      "Mahasiswa yang lulus sebanyak : 4\n",
      "Mahasiswa yang tidak lulus : 4\n"
     ]
    }
   ],
   "source": [
    "#filtering\n",
    "nilaiPemrograman = np.array([100,90,100,80,50,50,50,40])\n",
    "\n",
    "#tampilkan nilai pemrograman yang lebih dari 50 -> LULUS\n",
    "jmlLulus = nilaiPemrograman[nilaiPemrograman>50]\n",
    "print(jmlLulus)\n",
    "print(f\"Mahasiswa yang lulus sebanyak : {jmlLulus.size}\")\n",
    "print(f\"Mahasiswa yang tidak lulus : {nilaiPemrograman.size - jmlLulus.size}\")\n"
   ]
  },
  {
   "cell_type": "markdown",
   "id": "c2ab315a",
   "metadata": {},
   "source": [
    "<b>Project Generate Data</b><br>\n",
    "Buatlah 100 Data Custome CC, yang akan digunakan untuk prediksi atau klasifikasi yaitu:\n",
    "<ol> \n",
    "    <li>Usia : 17 -60 </li>\n",
    "    <li>Gender: L/P </li>\n",
    "    <li>Transaksi : perBulan : 0 -50 </li>\n",
    "    <li>pembayaran : Buruk, Sedang, Bagus </li>\n",
    "    \n",
    "</ol>"
   ]
  },
  {
   "cell_type": "code",
   "execution_count": 70,
   "id": "209133d9",
   "metadata": {},
   "outputs": [
    {
     "name": "stdout",
     "output_type": "stream",
     "text": [
      "    usia gender  transaksi pembayaran\n",
      "0     44      P          3      buruk\n",
      "1     43      L         20      buruk\n",
      "2     41      L          9      buruk\n",
      "3     53      L         13      bagus\n",
      "4     18      L         22     sedang\n",
      "..   ...    ...        ...        ...\n",
      "95    54      L          3      buruk\n",
      "96    28      L          4     sedang\n",
      "97    49      P         39     sedang\n",
      "98    27      L         20      buruk\n",
      "99    34      P         19      buruk\n",
      "\n",
      "[100 rows x 4 columns]\n",
      "<class 'pandas.core.frame.DataFrame'>\n",
      "RangeIndex: 100 entries, 0 to 99\n",
      "Data columns (total 4 columns):\n",
      " #   Column      Non-Null Count  Dtype \n",
      "---  ------      --------------  ----- \n",
      " 0   usia        100 non-null    int32 \n",
      " 1   gender      100 non-null    object\n",
      " 2   transaksi   100 non-null    int32 \n",
      " 3   pembayaran  100 non-null    object\n",
      "dtypes: int32(2), object(2)\n",
      "memory usage: 2.5+ KB\n",
      "None\n",
      "   usia gender  transaksi pembayaran\n",
      "0    44      P          3      buruk\n",
      "1    43      L         20      buruk\n",
      "2    41      L          9      buruk\n",
      "3    53      L         13      bagus\n",
      "4    18      L         22     sedang\n",
      "usia customer termuda:17\n",
      "usia customer tertua :60\n",
      "jumlah customer Laki-Laki: 53.0\n",
      "jumlah customer Laki-Laki :53\n"
     ]
    }
   ],
   "source": [
    "import numpy as np\n",
    "import pandas as pd\n",
    "\n",
    "jmlData = 100\n",
    "usia = np.random.randint(17,61,size=jmlData)\n",
    "gender = np.random.choice(['L','P'],size=jmlData)\n",
    "transaksi = np.random.randint(0,51, size=jmlData)\n",
    "pembayaran = np.random.choice(['buruk','sedang','bagus'],size=jmlData)\n",
    "\n",
    "df = pd.DataFrame({\n",
    "    'usia' :usia,\n",
    "    'gender':gender,\n",
    "    'transaksi':transaksi,\n",
    "    'pembayaran':pembayaran\n",
    "})\n",
    "print (df)\n",
    "print (df.info()) #menampilkan karakteristik data\n",
    "print (df.head()) #menampilkan isi tabel 5 baris pertama\n",
    "\n",
    "#tampilkan usia yang paling muda\n",
    "print(f\"usia customer termuda:{df['usia'].min()}\")\n",
    "print(f\"usia customer tertua :{df['usia'].max()}\")\n",
    "\n",
    "#tampilkan customer laki laki \n",
    "jmlL = df[df['gender']=='L']\n",
    "print(f\"jumlah customer Laki-Laki: {jmlL.size/4}\")\n",
    "print(f\"jumlah customer Laki-Laki :{jmlL['gender'].size}\")\n",
    "      \n",
    "df.to_csv(\"dataCustomer.csv\")"
   ]
  }
 ],
 "metadata": {
  "kernelspec": {
   "display_name": "Python 3 (ipykernel)",
   "language": "python",
   "name": "python3"
  },
  "language_info": {
   "codemirror_mode": {
    "name": "ipython",
    "version": 3
   },
   "file_extension": ".py",
   "mimetype": "text/x-python",
   "name": "python",
   "nbconvert_exporter": "python",
   "pygments_lexer": "ipython3",
   "version": "3.9.12"
  }
 },
 "nbformat": 4,
 "nbformat_minor": 5
}
