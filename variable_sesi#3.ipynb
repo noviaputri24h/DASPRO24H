{
 "cells": [
  {
   "cell_type": "code",
   "execution_count": 1,
   "id": "2b413c8f",
   "metadata": {},
   "outputs": [
    {
     "name": "stdout",
     "output_type": "stream",
     "text": [
      "Nama :  Novi\n",
      "Alamat : Jl. Cibolang\n",
      "Umur : 19\n",
      "Nilai Pemrograman : 85.7\n",
      "Status Menikah : False\n",
      "Provinsi : 7413412\n"
     ]
    }
   ],
   "source": [
    "name = \"Novi\"\n",
    "address, province = \"Jl. Cibolang\",\"7413412\"\n",
    "age = 19\n",
    "scorePython = 85.7\n",
    "isMarried = False\n",
    "\n",
    "print(\"Nama : \",name)\n",
    "print(\"Alamat :\",address)\n",
    "print(\"Umur :\",age)\n",
    "print(\"Nilai Pemrograman :\",scorePython)\n",
    "print(\"Status Menikah :\",isMarried)\n",
    "print(\"Provinsi :\",province)"
   ]
  },
  {
   "cell_type": "code",
   "execution_count": 2,
   "id": "06d966e7",
   "metadata": {},
   "outputs": [
    {
     "name": "stdout",
     "output_type": "stream",
     "text": [
      "Tipe Data <name> <class 'str'>\n",
      "Tipe Data <address <class 'str'>\n",
      "Tipe Data <age> <class 'int'>\n",
      "Tipe Data <csorePython> <class 'float'>\n",
      "Tipe Data <isMarried> <class 'bool'>\n"
     ]
    }
   ],
   "source": [
    "print(\"Tipe Data <name>\", type(name))\n",
    "print(\"Tipe Data <address\", type(address))\n",
    "print(\"Tipe Data <age>\", type(age))\n",
    "print(\"Tipe Data <csorePython>\", type(scorePython))\n",
    "print(\"Tipe Data <isMarried>\", type(isMarried))"
   ]
  },
  {
   "cell_type": "code",
   "execution_count": 3,
   "id": "0bb0f4c2",
   "metadata": {},
   "outputs": [
    {
     "name": "stdout",
     "output_type": "stream",
     "text": [
      "7413414-7413412.0-True\n",
      "19-19.0-True\n",
      "85.7-85-True\n",
      "False-0-0.0\n"
     ]
    }
   ],
   "source": [
    "#Casting / KOnversi Tipe Data\n",
    "#1. String ke (int,float,boolean)\n",
    "strToInt = int(province)\n",
    "strToFloat = float(province)\n",
    "strToBool = bool(province)\n",
    "print(strToInt + 2,strToFloat,strToBool, sep=\"-\")\n",
    "\n",
    "#2. Int ke (str,float,boolean)\n",
    "intToStr = str(age)\n",
    "intToFloat = float(age)\n",
    "intToBool = bool(age)\n",
    "print(intToStr, intToFloat, intToBool, sep=\"-\")\n",
    "\n",
    "#3. Float ke (int,str,boolean)\n",
    "floatToStr = str(scorePython)\n",
    "floatToInt = int(scorePython)\n",
    "floatToBool = bool(scorePython)\n",
    "print(floatToStr, floatToInt, floatToBool, sep=\"-\")\n",
    "#4. Bool ke (int,str,boolean)\n",
    "boolToStr = str(isMarried)\n",
    "boolToInt = int(isMarried)\n",
    "boolToFloat = float(isMarried)\n",
    "print(boolToStr, boolToInt, boolToFloat, sep=\"-\")"
   ]
  },
  {
   "cell_type": "code",
   "execution_count": 4,
   "id": "feed435a",
   "metadata": {},
   "outputs": [
    {
     "name": "stdout",
     "output_type": "stream",
     "text": [
      "Nilai Desimal : 500\n",
      "Nilai Biner : 10\n",
      "Nilai Octal : 255\n",
      "Nilai Hexa : 255\n",
      "Nilai Biner Dari  500 : 0b111110100\n",
      "Nilai Octal Dari  500 : 0o764\n",
      "Nilai Hexa Dari  500 : 0x1f4\n"
     ]
    }
   ],
   "source": [
    "#tipe data basis bilangan (desimal,biner,octal,hexa)\n",
    "\n",
    "desimal = 500\n",
    "biner = 0b1010 #10\n",
    "octal = 0o377 #255\n",
    "hexa = 0xff #255\n",
    "\n",
    "print(\"Nilai Desimal :\",desimal)\n",
    "print(\"Nilai Biner :\",biner)\n",
    "print(\"Nilai Octal :\",octal)\n",
    "print(\"Nilai Hexa :\",hexa)\n",
    "\n",
    "print(\"Nilai Biner Dari \",desimal, \":\",bin(desimal))\n",
    "print(\"Nilai Octal Dari \",desimal, \":\",oct(desimal))\n",
    "print(\"Nilai Hexa Dari \",desimal, \":\",hex(desimal))"
   ]
  },
  {
   "cell_type": "code",
   "execution_count": 5,
   "id": "a9d1e0ce",
   "metadata": {},
   "outputs": [
    {
     "name": "stdout",
     "output_type": "stream",
     "text": [
      "S\n",
      "8\n",
      "I\n"
     ]
    }
   ],
   "source": [
    "city = \"SUKABUMI\"\n",
    "length = len(city)\n",
    "print(city[0])\n",
    "print(length)\n",
    "print(city[length-1])"
   ]
  },
  {
   "cell_type": "code",
   "execution_count": 8,
   "id": "5c4a349b",
   "metadata": {},
   "outputs": [
    {
     "name": "stdout",
     "output_type": "stream",
     "text": [
      "['Bandung', 'Sukabumi', 'Bogor', 'Jakarta']\n",
      "Bandung\n",
      "Jakarta\n",
      "J\n",
      "a\n",
      "a\n",
      "['Bali', 'Sukabumi', 'Bogor', 'Jakarta']\n",
      "('Andi', 'Ferdi', 'Raihan')\n",
      "Ferdi\n",
      "{'name': 'Robi', 'age': 25, 'address': {'street': 'Cisat', 'number': 21, 'province': 'Jawa Barat'}, 'isMarried': True, 'hobbies': ['Basket Ball', 'Foot Ball']}\n",
      "25\n",
      "Jawa Barat\n",
      "['Basket Ball', 'Foot Ball']\n",
      "Jawa Barat\n"
     ]
    }
   ],
   "source": [
    "#Tipe data Collection\n",
    "cities = [\"Bandung\",\"Sukabumi\",\"Bogor\",\"Jakarta\"]\n",
    "lengthCities = len(cities)\n",
    "print(cities)\n",
    "print(cities[0])\n",
    "print(cities[lengthCities-1])\n",
    "print(cities[lengthCities-1][0])\n",
    "print(cities[lengthCities-1][1])\n",
    "print(cities[lengthCities-1][len(cities[lengthCities-1])-1])\n",
    "cities[0] = \"Bali\"\n",
    "#cities[5] = \"Malang akan menyebabkan error of range\"\n",
    "print(cities)\n",
    "\n",
    "names = (\"Andi\",\"Ferdi\",\"Raihan\")\n",
    "print(names)\n",
    "print(names[1])\n",
    "#names[0] = \"Dedi\" error immutable tuple\n",
    "\n",
    "studentData = {\n",
    "    \"name\" : \"Robi\",\n",
    "    \"age\" : 25,\n",
    "    \"address\" : {\n",
    "        \"street\" : \"Cisat\",\n",
    "        \"number\" : 21,\n",
    "        \"province\" : \"Jawa Barat\",\n",
    "    },\n",
    "    \"isMarried\" : True,\n",
    "    \"hobbies\" : [\"Basket Ball\",\"Foot Ball\"]\n",
    "}\n",
    "\n",
    "print(studentData)\n",
    "print(studentData[\"age\"])\n",
    "print(studentData[\"address\"][\"province\"])\n",
    "print(studentData[\"hobbies\"])\n",
    "\n",
    "studentList = [\n",
    "    {\n",
    "        \"name\" : \"Robi\",\n",
    "        \"age\" : 25,\n",
    "        \"address\" : {\n",
    "            \"street\" : \"Cisat\",\n",
    "            \"number\" : 21,\n",
    "            \"province\" : \"Jawa Barat\",\n",
    "        },\n",
    "        \"isMarried\" : True,\n",
    "        \"hobbies\" : [\"Basket Ball\",\"Foot Ball\"]\n",
    "    },\n",
    "    {\n",
    "        \"name\" : \"Maya\",\n",
    "        \"age\" : 19,\n",
    "        \"address\" : {\n",
    "            \"street\" : \"Cisat\",\n",
    "            \"number\" : 21,\n",
    "            \"province\" : \"Jawa Barat\"\n",
    "        },\n",
    "        \"isMarried\" : True,\n",
    "        \"hobbies\" : [\"Dance\"]\n",
    "    }\n",
    "]\n",
    "print(studentList[1][\"address\"][\"province\"])\n"
   ]
  },
  {
   "cell_type": "code",
   "execution_count": 9,
   "id": "a45d5b27",
   "metadata": {},
   "outputs": [
    {
     "name": "stdout",
     "output_type": "stream",
     "text": [
      "{'name': 'Andi', 'age': 30, 'status': True}\n",
      "{'name': 'Rudi', 'address': 'Bogor'}\n",
      "{'name': 'Tiger', 'type': 'Mamalia'}\n",
      "{'name': 'Crocodile', 'type': 'Reptile'}\n",
      "{'vehicle': 'car', 'Brand': 'BMW', 'cc': '2500'}\n"
     ]
    }
   ],
   "source": [
    "#konversi dictionary\n",
    "\n",
    "list_list = [[\"name\", \"Andi\"], [\"age\", 30], [\"status\",True]]\n",
    "dictListStudent = dict(list_list)\n",
    "print(dictListStudent)\n",
    "\n",
    "list_tuple =  [(\"name\", \"Rudi\"), (\"address\", \"Bogor\")]\n",
    "dictTupleStudent = dict(list_tuple)\n",
    "print(dictTupleStudent)\n",
    "\n",
    "tuple_list = ([\"name\", \"Tiger\"], [\"type\", \"Mamalia\"])\n",
    "dictListAnimal = dict(tuple_list)\n",
    "print(dictListAnimal)\n",
    "\n",
    "tuple_tuple = ((\"name\", \"Crocodile\"), (\"type\", \"Reptile\"))\n",
    "dictTupAnimal = dict(tuple_tuple)\n",
    "print(dictTupAnimal)\n",
    "\n",
    "keys = [\"vehicle\",\"Brand\",\"cc\"]\n",
    "values = [\"car\",\"BMW\",\"2500\"]\n",
    "car = dict(zip(keys,values))\n",
    "print(car)\n"
   ]
  },
  {
   "cell_type": "code",
   "execution_count": null,
   "id": "ea89599e",
   "metadata": {},
   "outputs": [],
   "source": []
  }
 ],
 "metadata": {
  "kernelspec": {
   "display_name": "Python 3 (ipykernel)",
   "language": "python",
   "name": "python3"
  },
  "language_info": {
   "codemirror_mode": {
    "name": "ipython",
    "version": 3
   },
   "file_extension": ".py",
   "mimetype": "text/x-python",
   "name": "python",
   "nbconvert_exporter": "python",
   "pygments_lexer": "ipython3",
   "version": "3.9.12"
  }
 },
 "nbformat": 4,
 "nbformat_minor": 5
}
