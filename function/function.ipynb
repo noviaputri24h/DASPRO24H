# Function 1: Membalik huruf di setiap kata, tapi urutan katanya tetap
def reverse_per_kata(kalimat):
    # Memisahkan kalimat menjadi list kata
    kata_kata = kalimat.split()
    # Membalik setiap kata satu per satu, lalu gabungkan kembali
    hasil = ' '.join([kata[::-1] for kata in kata_kata])
    return hasil


# Function 2: Menyusun ulang kata-kata berdasarkan urutan yang diberikan
def urutkan_kalimat(kalimat, urutan):
    # Memisahkan kalimat menjadi list kata
    kata_kata = kalimat.split()
    # Mengambil kata dari indeks sesuai list urutan (dikurang 1 karena urutan dimulai dari 1)
    hasil = ' '.join([kata_kata[i - 1] for i in urutan])
    return hasil


# Function 3: Mengganti huruf vokal kecil atau kapital sesuai opsi
def ganti_vokal(kalimat, opsi):
    # Kamus pengganti vokal kecil
    vokal_kecil = {'a': '4', 'i': '1', 'u': '|_|', 'e': '3', 'o': '0'}
    # Kamus pengganti vokal kapital
    vokal_besar = {'A': '4', 'I': '1', 'U': '|_|', 'E': '3', 'O': '0'}

    hasil = ''  # Menyimpan hasil akhir

    # Memeriksa setiap karakter dalam kalimat
    for huruf in kalimat:
        if opsi == 1 and huruf in vokal_kecil:
            # Jika opsi 1, ganti huruf vokal kecil saja
            hasil += vokal_kecil[huruf]
        elif opsi == 2 and huruf in vokal_besar:
            # Jika opsi 2, ganti huruf vokal kapital saja
            hasil += vokal_besar[huruf]
        else:
            # Selain itu, huruf tidak diubah
            hasil += huruf
    return hasil



# Uji function 1: Membalik setiap kata
print(reverse_per_kata("Novia Putri Wardani"))
# Output: "aivoN irtuP inadraW"

# Uji function 2: Menyusun ulang kata
print(urutkan_kalimat("Novia Putri Wardani", [3, 1, 2]))
# Output: "Wardani Novia Putri"

# Uji function 3: Ganti vokal kecil
print(ganti_vokal("Novia Putri Wardani", 1))
# Output: "N0v14 P|_|tr1 W4rd4n1"

# Uji function 3: Ganti vokal kapital (tidak ada huruf kapital vokal di sini, jadi tetap)
print(ganti_vokal("Novia Putri Wardani", 2))
# Output: "Novia Putri Wardani"
