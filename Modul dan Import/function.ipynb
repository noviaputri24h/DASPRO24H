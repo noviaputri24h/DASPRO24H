{
 "cells": [
  {
   "cell_type": "code",
   "execution_count": 11,
   "id": "0e9de0da-2997-4d2d-94f9-f6f2a50ead27",
   "metadata": {},
   "outputs": [],
   "source": [
    "#Fungsi tanpa parameter\n",
    "import datetime as dt #Built in function\n",
    "def showDate():\n",
    "    today = dt.date.today()\n",
    "    print(f\"Sekarang tanggal : {today}\")\n",
    "\n",
    "def isWeekday():\n",
    "    week = dt.date.today().weekday()\n",
    "    if week >=5:\n",
    "        print(f\"Hari ini adalah weekand\")\n",
    "    else:\n",
    "        print(f\"Hari ini adalah weekday\")"
   ]
  },
  {
   "cell_type": "code",
   "execution_count": 12,
   "id": "453d7490-6d15-45b5-9538-294e6a631c3e",
   "metadata": {},
   "outputs": [],
   "source": [
    "#Fungsi dengan parameter\n",
    "def getFullName(first,middle,last):\n",
    "    return (f\"Welcome, {first} {middle} {last}, S.Kom\")"
   ]
  },
  {
   "cell_type": "code",
   "execution_count": 13,
   "id": "876d0cd9-99d1-4f61-bdd6-5e6681180c06",
   "metadata": {},
   "outputs": [
    {
     "name": "stdin",
     "output_type": "stream",
     "text": [
      "Isikan Bilangan 1: 1\n",
      "Isikan Bilangan 2: 1\n"
     ]
    },
    {
     "name": "stdout",
     "output_type": "stream",
     "text": [
      "Hasil penjumlahan 1 dan 1 = 2\n",
      "Hasil perkalian 1 dan 1 = 1\n",
      "Hasil penjumlahan 2 dan 1 = 3\n",
      "Hasil penjumlahan 1 dan 1 = 2\n",
      "Hasil perkalian 1 dan 1 = 1\n"
     ]
    }
   ],
   "source": [
    "#Fungsi dengan parameter dan return value untuk aritmatika\n",
    "def addNumber(num1,num2):\n",
    "    return num1 + num2\n",
    "\n",
    "def multiplyNumber(num1,num2):\n",
    "    return num1 * num2\n",
    "\n",
    "def addMulNumber(num1,num2):\n",
    "    add = num1 + num2\n",
    "    mul = num1 * num2\n",
    "    return add,mul\n",
    "    \n",
    "bil1 = int(input(\"Isikan Bilangan 1:\")) #10\n",
    "bil2 = int(input(\"Isikan Bilangan 2:\")) #5\n",
    "r1 = addNumber(bil1,bil2) #15\n",
    "r2 = multiplyNumber(bil1,bil2) #50\n",
    "r3 = addNumber(r1,r2) #65\n",
    "add,mul = addMulNumber(bil1,bil2) #15,50\n",
    "\n",
    "print(f\"Hasil penjumlahan {bil1} dan {bil2} = {r1}\")\n",
    "print(f\"Hasil perkalian {bil1} dan {bil2} = {r2}\")\n",
    "print(f\"Hasil penjumlahan {r1} dan {r2} = {r3}\")\n",
    "print(f\"Hasil penjumlahan {bil1} dan {bil2} = {add}\")\n",
    "print(f\"Hasil perkalian {bil1} dan {bil2} = {mul}\")"
   ]
  },
  {
   "cell_type": "code",
   "execution_count": 18,
   "id": "131ba002-d9e3-4a31-a39b-faff4038aab0",
   "metadata": {},
   "outputs": [
    {
     "name": "stdout",
     "output_type": "stream",
     "text": [
      "Sekarang tanggal : 2025-05-28\n",
      "Hari ini adalah weekday\n",
      "Welcome, Cipa  Maesaroh, S.Kom\n",
      "Akun berhasil dibuat:\n",
      "No KTP:098765432123456789\n",
      "Nama:Cipa\n",
      "Saldo awal:100000\n",
      "Proses Registrasi Berhasil!!\n",
      "User Name :Cipa\n",
      "Nama :Cipa\n",
      "Status :False\n",
      "Hak akses :user\n",
      "Proses Registrasi Berhasil!!\n",
      "User Name :Cipa\n",
      "Nama :Cipa\n",
      "Status :True\n",
      "Hak akses :admin\n",
      "Proses Registrasi Berhasil!!\n",
      "User Name :Cipa\n",
      "Nama :Cipa\n",
      "Status :False\n",
      "Hak akses :admin\n"
     ]
    }
   ],
   "source": [
    "#Fungai dengan nilai default\n",
    "def daftarRekening(no_ktp, nama, saldo=100000):\n",
    "    ket = f\"Akun berhasil dibuat:\\n\"\n",
    "    ket += f\"No KTP:{no_ktp}\\n\"\n",
    "    ket += f\"Nama:{nama}\\n\"\n",
    "    ket += f\"Saldo awal:{saldo}\"\n",
    "    return ket \n",
    "\n",
    "def userRegistration(username, password, nama, status=False, role=\"user\"):\n",
    "    print(f\"Proses Registrasi Berhasil!!\")\n",
    "    print(f\"User Name :{username}\")\n",
    "    print(f\"Nama :{nama}\")\n",
    "    print(f\"Status :{status}\")\n",
    "    print(f\"Hak akses :{role}\")\n",
    "\n",
    "showDate()\n",
    "isWeekday()\n",
    "print(getFullName(\"Cipa\",\"\",\"Maesaroh\"))\n",
    "print(daftarRekening(\"098765432123456789\",\"Cipa\"))\n",
    "userRegistration(\"Cipa\",\"12334567\",\"Cipa\")\n",
    "userRegistration(\"Cipa\",\"12334567\",\"Cipa\",True,\"admin\")\n",
    "userRegistration(\"Cipa\",\"12334567\",\"Cipa\",role = \"admin\")"
   ]
  },
  {
   "cell_type": "code",
   "execution_count": 19,
   "id": "e4fd065c-95e7-4ac0-b2b1-de6333595805",
   "metadata": {},
   "outputs": [
    {
     "name": "stdout",
     "output_type": "stream",
     "text": [
      "Args : ('Jan', 'Feb', 'Mar')\n",
      "KWargs: {'nama': 'Yana', 'umur': 20, 'alamat': 'Sukabumi'}\n",
      "Jan\n",
      "Feb\n",
      "Mar\n",
      "Yana\n",
      "20\n",
      "Sukabumi\n",
      "Total jumlah : 6\n",
      "Total jumlah : 15\n"
     ]
    }
   ],
   "source": [
    "#Function argumen dan keyword argumen -> * dan **\n",
    "def printData(*args, **kwargs):\n",
    "    print(\"Args :\", args)\n",
    "    print(\"KWargs:\", kwargs)\n",
    "    return args,kwargs\n",
    "\n",
    "args,kwargs = printData(\"Jan\",\"Feb\",\"Mar\",nama=\"Yana\",umur=20,alamat=\"Sukabumi\")\n",
    "\n",
    "for i in args:\n",
    "    print(i)\n",
    "    \n",
    "for item in kwargs.items():\n",
    "    print(item[1])\n",
    "\n",
    "#Buatlah fungsi untuk penjumlahan dengan jumlah parameter bebas\n",
    "def addNumbers(*numbers):\n",
    "    total = 0\n",
    "    for i in numbers:\n",
    "        total += int(i)\n",
    "    return total\n",
    "\n",
    "print(f\"Total jumlah : {addNumbers(1,2,3)}\")\n",
    "print(f\"Total jumlah : {addNumbers(1,2,3,4,5)}\")"
   ]
  },
  {
   "cell_type": "code",
   "execution_count": null,
   "id": "6442164d-9ba1-4daf-b58f-4245f10812be",
   "metadata": {},
   "outputs": [],
   "source": []
  }
 ],
 "metadata": {
  "kernelspec": {
   "display_name": "Python 3 (ipykernel)",
   "language": "python",
   "name": "python3"
  },
  "language_info": {
   "codemirror_mode": {
    "name": "ipython",
    "version": 3
   },
   "file_extension": ".py",
   "mimetype": "text/x-python",
   "name": "python",
   "nbconvert_exporter": "python",
   "pygments_lexer": "ipython3",
   "version": "3.12.7"
  }
 },
 "nbformat": 4,
 "nbformat_minor": 5
}
