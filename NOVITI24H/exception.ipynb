{
 "cells": [
  {
   "cell_type": "code",
   "execution_count": 1,
   "id": "a11978c8",
   "metadata": {},
   "outputs": [
    {
     "name": "stdout",
     "output_type": "stream",
     "text": [
      "angka 1ujyuuu\n",
      "input harus angka\n",
      " program selesai\n"
     ]
    }
   ],
   "source": [
    "try:\n",
    "    angka1 = int(input(\"angka 1\"))\n",
    "    angka2 = int(input(\"angka 2\"))\n",
    "    hasil = angka1/angka2\n",
    "    print(hasil)\n",
    "except ZeroDivisionError:\n",
    "    print(\"tidak boleh pembagian dengan 0\")\n",
    "except ValueError:\n",
    "    print(\"input harus angka\")\n",
    "else: \n",
    "    print(hasil)\n",
    "finally:\n",
    "    print(\" program selesai\")"
   ]
  },
  {
   "cell_type": "code",
   "execution_count": 10,
   "id": "80301284",
   "metadata": {},
   "outputs": [
    {
     "name": "stdout",
     "output_type": "stream",
     "text": [
      "angka ke 1:2\n",
      "angka ke 2:2\n",
      "1.0\n",
      "program selesai\n"
     ]
    }
   ],
   "source": [
    "try :\n",
    "    angka1 = int(input(\"angka ke 1:\"))\n",
    "    angka2 = int(input(\"angka ke 2:\"))\n",
    "    hasil = angka1/angka2\n",
    "except (ZeroDivisionError, ValueError) as e:\n",
    "    print(f\"Terjadi kesalahan, {e}\")\n",
    "else :\n",
    "    print(hasil)\n",
    "finally:\n",
    "    print(\"program selesai\")"
   ]
  },
  {
   "cell_type": "code",
   "execution_count": 12,
   "id": "706dd53d",
   "metadata": {},
   "outputs": [
    {
     "name": "stdout",
     "output_type": "stream",
     "text": [
      "isikan urutan indeks:3\n",
      "70\n"
     ]
    }
   ],
   "source": [
    "try :\n",
    "    dataNilai = [100,90,80,70,60,100,70]\n",
    "    tampilData= int(input(\"isikan urutan indeks:\"))\n",
    "    print(dataNilai[tampilData])\n",
    "except IndexError as ie:\n",
    "    print(f\"terjadi kesalahan: {e}\")"
   ]
  },
  {
   "cell_type": "code",
   "execution_count": 16,
   "id": "e0b2ac46",
   "metadata": {},
   "outputs": [
    {
     "name": "stdout",
     "output_type": "stream",
     "text": [
      " terjadi kesalahan 'fakultas'\n"
     ]
    }
   ],
   "source": [
    "try :\n",
    "    dataMahasiswa = {\n",
    "        'nim' : 123456789,\n",
    "        'nama': \"ayu\",\n",
    "        'alamat': \"Bandung\",\n",
    "        'kelas': \"TI24H\", \n",
    "    }\n",
    "    print(dataMahasiswa[\"fakultas\"])\n",
    "except KeyError as ue:\n",
    "        print(f\" terjadi kesalahan {ue}\")\n",
    "        \n",
    "    "
   ]
  },
  {
   "cell_type": "code",
   "execution_count": 23,
   "id": "bea3afba",
   "metadata": {},
   "outputs": [
    {
     "name": "stdout",
     "output_type": "stream",
     "text": [
      "terjadi kesalahan Nilai Tidak Boleh Negatif \n"
     ]
    }
   ],
   "source": [
    "#own exception\n",
    "class NilaiNegatifError(Exception):\n",
    "    pass\n",
    "\n",
    "def CekNilai(x):\n",
    "    if(x<0):\n",
    "        raise NilaiNegatifError(\"Nilai Tidak Boleh Negatif\")\n",
    "        \n",
    "try:\n",
    "    CekNilai(-17)\n",
    "except NilaiNegatifError as negatif:\n",
    "    print(f\"terjadi kesalahan {negatif} \")"
   ]
  },
  {
   "cell_type": "code",
   "execution_count": 25,
   "id": "88b0bc9f",
   "metadata": {},
   "outputs": [
    {
     "ename": "FileNotFoundError",
     "evalue": "[Errno 2] No such file or directory: 'dataCusotmer.csv'",
     "output_type": "error",
     "traceback": [
      "\u001b[1;31m---------------------------------------------------------------------------\u001b[0m",
      "\u001b[1;31mFileNotFoundError\u001b[0m                         Traceback (most recent call last)",
      "Input \u001b[1;32mIn [25]\u001b[0m, in \u001b[0;36m<cell line: 5>\u001b[1;34m()\u001b[0m\n\u001b[0;32m      1\u001b[0m \u001b[38;5;66;03m#file Handling\u001b[39;00m\n\u001b[0;32m      2\u001b[0m \u001b[38;5;66;03m#variabel = open(\"nama file\", \"mode\")\u001b[39;00m\n\u001b[0;32m      3\u001b[0m \u001b[38;5;66;03m#made - r (read), w (write), a (append)\u001b[39;00m\n\u001b[1;32m----> 5\u001b[0m f \u001b[38;5;241m=\u001b[39m \u001b[38;5;28;43mopen\u001b[39;49m\u001b[43m(\u001b[49m\u001b[38;5;124;43m\"\u001b[39;49m\u001b[38;5;124;43mdataCusotmer.csv\u001b[39;49m\u001b[38;5;124;43m\"\u001b[39;49m\u001b[43m,\u001b[49m\u001b[38;5;124;43m\"\u001b[39;49m\u001b[38;5;124;43mr\u001b[39;49m\u001b[38;5;124;43m\"\u001b[39;49m\u001b[43m)\u001b[49m\n\u001b[0;32m      6\u001b[0m konten \u001b[38;5;241m=\u001b[39m f\u001b[38;5;241m.\u001b[39mread()\n\u001b[0;32m      7\u001b[0m \u001b[38;5;28mprint\u001b[39m(konten)\n",
      "\u001b[1;31mFileNotFoundError\u001b[0m: [Errno 2] No such file or directory: 'dataCusotmer.csv'"
     ]
    }
   ],
   "source": [
    "#file Handling\n",
    "#variabel = open(\"nama file\", \"mode\")\n",
    "#made - r (read), w (write), a (append)\n",
    "\n",
    "f = open(\"dataCusotmer.csv\",\"r\")\n",
    "konten = f.read()\n",
    "print(konten)\n",
    "f.close()"
   ]
  },
  {
   "cell_type": "code",
   "execution_count": 24,
   "id": "f45d7014",
   "metadata": {},
   "outputs": [
    {
     "name": "stdout",
     "output_type": "stream",
     "text": [
      "program selesai\n"
     ]
    },
    {
     "ename": "NameError",
     "evalue": "name 'FileNotFounderError' is not defined",
     "output_type": "error",
     "traceback": [
      "\u001b[1;31m---------------------------------------------------------------------------\u001b[0m",
      "\u001b[1;31mFileNotFoundError\u001b[0m                         Traceback (most recent call last)",
      "Input \u001b[1;32mIn [24]\u001b[0m, in \u001b[0;36m<cell line: 1>\u001b[1;34m()\u001b[0m\n\u001b[0;32m      1\u001b[0m \u001b[38;5;28;01mtry\u001b[39;00m :\n\u001b[1;32m----> 2\u001b[0m     \u001b[38;5;28;01mwith\u001b[39;00m \u001b[38;5;28;43mopen\u001b[39;49m\u001b[43m(\u001b[49m\u001b[38;5;124;43m\"\u001b[39;49m\u001b[38;5;124;43mdataCustomer.csv\u001b[39;49m\u001b[38;5;124;43m\"\u001b[39;49m\u001b[43m)\u001b[49m \u001b[38;5;28;01mas\u001b[39;00m f:\n\u001b[0;32m      3\u001b[0m         \u001b[38;5;28mprint\u001b[39m(f\u001b[38;5;241m.\u001b[39mread())\n",
      "\u001b[1;31mFileNotFoundError\u001b[0m: [Errno 2] No such file or directory: 'dataCustomer.csv'",
      "\nDuring handling of the above exception, another exception occurred:\n",
      "\u001b[1;31mNameError\u001b[0m                                 Traceback (most recent call last)",
      "Input \u001b[1;32mIn [24]\u001b[0m, in \u001b[0;36m<cell line: 1>\u001b[1;34m()\u001b[0m\n\u001b[0;32m      2\u001b[0m     \u001b[38;5;28;01mwith\u001b[39;00m \u001b[38;5;28mopen\u001b[39m(\u001b[38;5;124m\"\u001b[39m\u001b[38;5;124mdataCustomer.csv\u001b[39m\u001b[38;5;124m\"\u001b[39m) \u001b[38;5;28;01mas\u001b[39;00m f:\n\u001b[0;32m      3\u001b[0m         \u001b[38;5;28mprint\u001b[39m(f\u001b[38;5;241m.\u001b[39mread())\n\u001b[1;32m----> 4\u001b[0m \u001b[38;5;28;01mexcept\u001b[39;00m \u001b[43mFileNotFounderError\u001b[49m \u001b[38;5;28;01mas\u001b[39;00m fnf:\n\u001b[0;32m      5\u001b[0m     \u001b[38;5;28mprint\u001b[39m(\u001b[38;5;124mf\u001b[39m\u001b[38;5;124m\"\u001b[39m\u001b[38;5;124mterjadi keesalahan: \u001b[39m\u001b[38;5;132;01m{\u001b[39;00mfnf\u001b[38;5;132;01m}\u001b[39;00m\u001b[38;5;124m\"\u001b[39m)\n\u001b[0;32m      6\u001b[0m \u001b[38;5;28;01melse\u001b[39;00m :\n",
      "\u001b[1;31mNameError\u001b[0m: name 'FileNotFounderError' is not defined"
     ]
    }
   ],
   "source": [
    "try :\n",
    "    with open(\"dataCustomer.csv\") as f:\n",
    "        print(f.read())\n",
    "except FileNotFounderError as fnf:\n",
    "    print(f\"terjadi keesalahan: {fnf}\")\n",
    "else :\n",
    "    print(\"data sudah selesai dibaca semuanya\")\n",
    "finally:\n",
    "    print(\"program selesai \")"
   ]
  },
  {
   "cell_type": "code",
   "execution_count": 31,
   "id": "a9d13e13",
   "metadata": {},
   "outputs": [
    {
     "name": "stdout",
     "output_type": "stream",
     "text": [
      "proses selesai\n"
     ]
    }
   ],
   "source": [
    "try:\n",
    "    with open (\"data.txt\", \"a\") as f:\n",
    "        f.write(\"halo, apakabar!\\n\")\n",
    "        f.write(\"sebentar, lagi UAS!\\n\")\n",
    "except IOError:\n",
    "    print(IOError)\n",
    "else :\n",
    "    print(\"proses selesai\")"
   ]
  },
  {
   "cell_type": "code",
   "execution_count": null,
   "id": "ece8f78b",
   "metadata": {},
   "outputs": [],
   "source": []
  }
 ],
 "metadata": {
  "kernelspec": {
   "display_name": "Python 3 (ipykernel)",
   "language": "python",
   "name": "python3"
  },
  "language_info": {
   "codemirror_mode": {
    "name": "ipython",
    "version": 3
   },
   "file_extension": ".py",
   "mimetype": "text/x-python",
   "name": "python",
   "nbconvert_exporter": "python",
   "pygments_lexer": "ipython3",
   "version": "3.9.12"
  }
 },
 "nbformat": 4,
 "nbformat_minor": 5
}
