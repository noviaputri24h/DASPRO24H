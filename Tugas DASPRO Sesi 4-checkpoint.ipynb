{
 "cells": [
  {
   "cell_type": "markdown",
   "id": "2077eff3-3dc5-4556-832b-2df2bb0742c3",
   "metadata": {},
   "source": [
    "<b>OPERATOR ARITMATIKA<b>"
   ]
  },
  {
   "cell_type": "code",
   "execution_count": 21,
   "id": "81c0d315-fd18-4255-be01-eca0d78ee178",
   "metadata": {},
   "outputs": [
    {
     "name": "stdout",
     "output_type": "stream",
     "text": [
      "Setiap teman akan menerima apel sebanyak : 3.0 buah\n",
      "Total banyak apel yang dimiliki oleh Budi adalah sebanyak : 20 buah\n"
     ]
    }
   ],
   "source": [
    "jumlahApel = 12\n",
    "jumlahTeman = 4\n",
    "\n",
    "apelTiapTeman = jumlahApel / jumlahTeman\n",
    "print(\"Setiap teman akan menerima apel sebanyak :\" ,apelTiapTeman, \"buah\")\n",
    "\n",
    "tambahanApel = 8\n",
    "totalApel = jumlahApel + tambahanApel \n",
    "print(\"Total banyak apel yang dimiliki oleh Budi adalah sebanyak :\" ,totalApel, \"buah\")"
   ]
  },
  {
   "cell_type": "markdown",
   "id": "1eaabfa8-d2b9-4fd0-94cb-0208a8869cfa",
   "metadata": {},
   "source": [
    "<b>OPERATOR PERBANDINGAN<b>"
   ]
  },
  {
   "cell_type": "code",
   "execution_count": 27,
   "id": "25c2e1b6-511c-4961-b81d-c371e74d0850",
   "metadata": {},
   "outputs": [
    {
     "name": "stdout",
     "output_type": "stream",
     "text": [
      "160 = 165 False\n",
      "160 != 165 True\n",
      "160 < 165 True\n",
      "160 >= 165 False\n",
      "jadi yang lebih tinggi dari perbandingan tinggi badan Siti dan Andi adalah Andi dengan tinggi : 165 cm\n"
     ]
    }
   ],
   "source": [
    "Siti = 160\n",
    "Andi = 165\n",
    "\n",
    "print(Siti,\"=\",Andi,Siti==Andi)\n",
    "print(Siti,\"!=\",Andi,Siti!=Andi)\n",
    "print(Siti,\"<\",Andi,Siti<=Andi)\n",
    "print(Siti,\">=\",Andi,Siti>=Andi)\n",
    "\n",
    "print(\"jadi yang lebih tinggi dari perbandingan tinggi badan Siti dan Andi adalah Andi dengan tinggi :\",Andi,\"cm\")"
   ]
  },
  {
   "cell_type": "markdown",
   "id": "9beda91e-f073-43c0-bb4c-ac340b22f930",
   "metadata": {},
   "source": []
  },
  {
   "cell_type": "markdown",
   "id": "2a6e84f0-dbd0-4ca4-aad3-168bea9a3b42",
   "metadata": {},
   "source": [
    "<b>OPERATOR LOGIKA<b>"
   ]
  },
  {
   "cell_type": "code",
   "execution_count": 102,
   "id": "f433244c-bb51-4dc5-b32d-db59fb852b03",
   "metadata": {},
   "outputs": [
    {
     "name": "stdout",
     "output_type": "stream",
     "text": [
      "Apakah Budi bisa bermain di luar jika cuaca cerah dan pr sudah selesai? True\n",
      "apakah Budi bisa bermain di luar jika cuaca tidak cerah dan pr belum selesai? False\n"
     ]
    }
   ],
   "source": [
    "CuacaCerah = True\n",
    "JikaPrSelesai = True\n",
    "JikaCuacaTidakCerah = False\n",
    "JikaPrBelumSelesai = False\n",
    "\n",
    "\n",
    "bisaBermain = CuacaCerah and JikaPrSelesai\n",
    "print(\"Apakah Budi bisa bermain di luar jika cuaca cerah dan pr sudah selesai?\", bisaBermain)\n",
    "\n",
    "tidakBisaBermain = JikaCuacaTidakCerah and JikaPrBelumSelesai\n",
    "print(\"apakah Budi bisa bermain di luar jika cuaca tidak cerah dan pr belum selesai?\", tidakBisaBermain)\n"
   ]
  },
  {
   "cell_type": "markdown",
   "id": "c1f98a7e-e9f1-43e6-9fad-e753af53cfc3",
   "metadata": {},
   "source": []
  },
  {
   "cell_type": "markdown",
   "id": "dcf2380e-ae81-4772-8d1a-88bc31f3df28",
   "metadata": {},
   "source": [
    "<b>OPERATOR BITWISE<B>"
   ]
  },
  {
   "cell_type": "code",
   "execution_count": 93,
   "id": "d1c023a4-05df-46ec-9da4-9354d271ce1f",
   "metadata": {},
   "outputs": [
    {
     "name": "stdout",
     "output_type": "stream",
     "text": [
      "Angka biner dari AND adalah : 0b10\n",
      "Angka biner dari OR adalah : 0b111\n",
      "Angka biner dari XOR adalah : 0b101\n"
     ]
    }
   ],
   "source": [
    "num1 = 6\n",
    "num2 = 3\n",
    "\n",
    "hasilAnd = num1 & num2\n",
    "print(\"Angka biner dari AND adalah :\",bin(hasilAnd))\n",
    "\n",
    "hasilOr = num1 | num2\n",
    "print(\"Angka biner dari OR adalah :\",bin(hasilOr))\n",
    "\n",
    "hasilXor = num1 ^ num2\n",
    "print(\"Angka biner dari XOR adalah :\",bin(hasilXor))"
   ]
  },
  {
   "cell_type": "markdown",
   "id": "6f5c3f37-c3d8-4093-a6be-af2e60f882a7",
   "metadata": {},
   "source": []
  },
  {
   "cell_type": "markdown",
   "id": "6620d328-857d-45a1-95ab-d790ddf6a421",
   "metadata": {},
   "source": [
    "<b>OPERATOR PENUGASAN<b>"
   ]
  },
  {
   "cell_type": "code",
   "execution_count": 82,
   "id": "fdadd08e-1057-48a0-ae41-2e9b534dd0e8",
   "metadata": {},
   "outputs": [
    {
     "name": "stdout",
     "output_type": "stream",
     "text": [
      "Saldo awal : Rp. 50000\n",
      "Saldo masuk : Rp. 20000\n",
      "Jumlah saldo setelah ditambah sebesar : Rp. 70000\n",
      "Jumlah saldo keluar untuk membeli paket internet : Rp. 30000\n",
      "jumlah sldo yang tersisa adalah sebesar : Rp. 40000\n"
     ]
    }
   ],
   "source": [
    "saldoAwal = 50000\n",
    "saldoTopUp = 20000\n",
    "saldoKeluar = 30000\n",
    "\n",
    "saldoAwal = 50000\n",
    "print(\"Saldo awal :\",\"Rp.\", saldoAwal)\n",
    "\n",
    "topUpSaldo = 20000\n",
    "print(\"Saldo masuk :\", \"Rp.\",topUpSaldo)\n",
    "\n",
    "saldoTopUp = saldoAwal + saldoTopUp\n",
    "print(\"Jumlah saldo setelah ditambah sebesar :\",\"Rp.\", saldoTopUp)\n",
    "\n",
    "saldoKeluar = 30000\n",
    "print(\"Jumlah saldo keluar untuk membeli paket internet :\", \"Rp.\", saldoKeluar)\n",
    "\n",
    "sisaSaldo = saldoTopUp - saldoKeluar\n",
    "print(\"jumlah sldo yang tersisa adalah sebesar :\", \"Rp.\", sisaSaldo)\n",
    "\n",
    "\n"
   ]
  },
  {
   "cell_type": "markdown",
   "id": "1e7cb6c8-5f04-4dba-9022-46dbb884e1b6",
   "metadata": {},
   "source": []
  },
  {
   "cell_type": "markdown",
   "id": "1e26b26c-c88d-4554-a46f-291b784507ae",
   "metadata": {},
   "source": [
    "<b>OPERATOR KEANGGOTAAN<b>"
   ]
  },
  {
   "cell_type": "code",
   "execution_count": 120,
   "id": "9856cc10-a2e4-4cb7-95e4-927d306d1205",
   "metadata": {},
   "outputs": [
    {
     "name": "stdout",
     "output_type": "stream",
     "text": [
      "Apakah nama Eka terdaftar dalam daftar nama peserta lomba? True\n",
      "Apakah ada kata : python dari kalimat : Saya suka belajar bahasa python ?\n",
      "jawabannya adalah: True\n"
     ]
    }
   ],
   "source": [
    "nama = \"Eka\"\n",
    "daftarNamaPesertaLomba = [\"Eka\",\"Budi\",\"Citra\",\"Dewi\"]\n",
    "hasil = nama in daftarNamaPesertaLomba\n",
    "print(\"Apakah nama Eka terdaftar dalam daftar nama peserta lomba?\", hasil)\n",
    "\n",
    "\n",
    "kalimat = \"Saya suka belajar bahasa python\"\n",
    "kataYangDicari = \"python\"\n",
    "hasil = kataYangDicari in kalimat\n",
    "print(\"Apakah ada kata :\",kataYangDicari,\"dari kalimat :\",kalimat,\"?\")\n",
    "print(\"jawabannya adalah:\",hasil)"
   ]
  },
  {
   "cell_type": "markdown",
   "id": "c36724df-1cf5-4c53-b52e-f129ce0d29f7",
   "metadata": {},
   "source": []
  },
  {
   "cell_type": "markdown",
   "id": "a1bebb10-95ce-435a-a125-b6a526a85b0c",
   "metadata": {},
   "source": [
    "<b>OPERATOR IDENTITAS<B>"
   ]
  },
  {
   "cell_type": "code",
   "execution_count": 133,
   "id": "7f788ff5-fa7a-40be-ab4e-9d2eead5d73f",
   "metadata": {},
   "outputs": [
    {
     "name": "stdout",
     "output_type": "stream",
     "text": [
      "Apakah x dan y mengacu pada objek yang sama? True\n",
      "apakah x dan y mengacu pada objek yang sama? False\n"
     ]
    }
   ],
   "source": [
    "x = 4\n",
    "y = 4\n",
    "hasil = x is y\n",
    "print(\"Apakah x dan y mengacu pada objek yang sama?\", hasil)\n",
    "\n",
    "list1 =[\"4\",\"8\",\"23\"]\n",
    "list2 =[\"4\",\"8\",\"23\"]\n",
    "hasil = list1 is list2\n",
    "print(\"apakah x dan y mengacu pada objek yang sama?\", hasil)"
   ]
  },
  {
   "cell_type": "markdown",
   "id": "d3017304-79ab-4451-b170-c57619029ac9",
   "metadata": {},
   "source": []
  },
  {
   "cell_type": "markdown",
   "id": "2cc9c017-1ce4-43d3-b3e1-471d78fb8f43",
   "metadata": {},
   "source": [
    "<b>OPERATOR TERNARY<b>"
   ]
  },
  {
   "cell_type": "code",
   "execution_count": 172,
   "id": "737ef3dc-58ce-432a-bb5c-31d382ec9d68",
   "metadata": {},
   "outputs": [
    {
     "name": "stdout",
     "output_type": "stream",
     "text": [
      "Angka : 200\n",
      "Lebih besar dari 100\n",
      "Angka : 23\n",
      "Tidak lebih besar dari 100\n"
     ]
    }
   ],
   "source": [
    "angka1 = 200\n",
    "print(\"Angka :\",angka1)\n",
    "hasil = (\"Tidak lebih besar dari 100\",\"Lebih besar dari 100\")[angka>100]\n",
    "print(hasil)\n",
    "\n",
    "angka2 = 23\n",
    "print(\"Angka :\",angka2)\n",
    "hasil = (\"Tidak lebih besar dari 100\",\"Lebih besar dari 100\")[angka<100]\n",
    "print(hasil)\n"
   ]
  },
  {
   "cell_type": "code",
   "execution_count": 175,
   "id": "c1dccb40-fd92-4f1e-8165-5a5d1ef4f119",
   "metadata": {},
   "outputs": [
    {
     "name": "stdin",
     "output_type": "stream",
     "text": [
      "Isi Nilai : 95\n"
     ]
    },
    {
     "name": "stdout",
     "output_type": "stream",
     "text": [
      "Lulus\n"
     ]
    }
   ],
   "source": [
    "nilai_Ujian = int(input(\"Isi Nilai :\"))\n",
    "status = (\"Tidak Lulus\",\"Lulus\")[nilai_Ujian>70]\n",
    "print(status)"
   ]
  },
  {
   "cell_type": "code",
   "execution_count": 177,
   "id": "0d1abcb6-beb6-4a20-9565-496bfae7d5b2",
   "metadata": {},
   "outputs": [
    {
     "name": "stdin",
     "output_type": "stream",
     "text": [
      "Isi Nilai : 68\n"
     ]
    },
    {
     "name": "stdout",
     "output_type": "stream",
     "text": [
      "Tidak Lulus\n"
     ]
    }
   ],
   "source": [
    "nilai_Ujian = int(input(\"Isi Nilai :\"))\n",
    "status = (\"Tidak Lulus\",\"Lulus\")[nilai_Ujian>70]\n",
    "print(status)"
   ]
  },
  {
   "cell_type": "code",
   "execution_count": null,
   "id": "58a0ed1c-874e-4b33-813e-089481f83a40",
   "metadata": {},
   "outputs": [],
   "source": []
  }
 ],
 "metadata": {
  "kernelspec": {
   "display_name": "Python [conda env:base] *",
   "language": "python",
   "name": "conda-base-py"
  },
  "language_info": {
   "codemirror_mode": {
    "name": "ipython",
    "version": 3
   },
   "file_extension": ".py",
   "mimetype": "text/x-python",
   "name": "python",
   "nbconvert_exporter": "python",
   "pygments_lexer": "ipython3",
   "version": "3.12.7"
  }
 },
 "nbformat": 4,
 "nbformat_minor": 5
}
