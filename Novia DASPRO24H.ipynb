{
 "cells": [
  {
   "cell_type": "markdown",
   "id": "4970780c",
   "metadata": {},
   "source": [
    "<img src=\"https://logos-world.net/wp-content/uploads/2021/10/Python-Logo.png\" width=\"300\" ></center><br>\n",
    "Pada Jupiter Notebooks jenis <b>cell</b> terbagi menjadi \n",
    "<ol>\n",
    "    <li>M (Mark Down) -> M</li>\n",
    "    <li>Y (Code) -> Y</li>\n",
    "</ol>\n",
    "<hr>"
   ]
  },
  {
   "cell_type": "markdown",
   "id": "8b99c76a",
   "metadata": {},
   "source": [
    "Cara menambahkan <b>cell</b> terbagi menjadi 2:\n",
    "<ul>\n",
    "    <li><b>A</b> -> (Above) menambahkan diatas cell aktif</li>\n",
    "    <li><b>B</b> -> (Below) menambahkan dibawah cell aktif</li>\n",
    "</ul>\n",
    "\n",
    "<table>\n",
    "    <tr>\n",
    "        <td> <center>PERINTAH</center> </td>\n",
    "        <td> <center>KETERANGAN </center></td>\n",
    "    </tr>\n",
    "    <tr>\n",
    "        <td>CTRL + Enter</td>\n",
    "        <td>Running program dengan fokus ke cell aktif </td>\n",
    "    </tr>\n",
    "    <tr>\n",
    "        <td>Shift + Enter </td>\n",
    "        <td>Running program dengan fokus di cell berikutnya </td>\n",
    "    </tr>\n",
    "</table>"
   ]
  },
  {
   "cell_type": "code",
   "execution_count": 1,
   "id": "609ebdb4",
   "metadata": {},
   "outputs": [
    {
     "name": "stdout",
     "output_type": "stream",
     "text": [
      "python is verry easy\n",
      "4\n"
     ]
    },
    {
     "data": {
      "text/plain": [
       "6"
      ]
     },
     "execution_count": 1,
     "metadata": {},
     "output_type": "execute_result"
    }
   ],
   "source": [
    "#this is comment\n",
    "print(\"python is verry easy\")\n",
    "data = 4\n",
    "print(data)\n",
    "data\n",
    "3 + 3"
   ]
  }
 ],
 "metadata": {
  "kernelspec": {
   "display_name": "Python 3 (ipykernel)",
   "language": "python",
   "name": "python3"
  },
  "language_info": {
   "codemirror_mode": {
    "name": "ipython",
    "version": 3
   },
   "file_extension": ".py",
   "mimetype": "text/x-python",
   "name": "python",
   "nbconvert_exporter": "python",
   "pygments_lexer": "ipython3",
   "version": "3.9.12"
  }
 },
 "nbformat": 4,
 "nbformat_minor": 5
}
